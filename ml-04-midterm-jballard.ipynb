{
 "cells": [
  {
   "cell_type": "markdown",
   "metadata": {},
   "source": [
    "# Applied Machine Learning Midterm Project: _Classification Analysis_\n",
    "\n",
    "## Jason Ballard\n",
    "\n",
    "#### Basehor, Kansas (CDT)\n",
    "\n",
    "#### April 6, 2025\n",
    "\n",
    "> Submission: GitHub Repository with Jupyter Notebook and Peer Review\n",
    "---"
   ]
  },
  {
   "cell_type": "markdown",
   "metadata": {},
   "source": [
    "## 📌 Project Overview\n",
    "\n",
    "Organizations frequently need to classify data to support decision-making. \n",
    "For example, a healthcare provider may want to predict whether a patient has a specific condition based on lab results,\n",
    "or a business may classify customer behavior to tailor marketing strategies.\n",
    "Machine learning classification models help automate these decisions by recognizing patterns in historical data.\n",
    "\n",
    "This project demonstrates the ability to apply classification modeling techniques to a real-world dataset. You will:\n",
    "\n",
    "- Load and explore a dataset.\n",
    "- Analyze feature distributions and consider feature selection.\n",
    "- Train and evaluate a classification model.\n",
    "- Compare different classification approaches.\n",
    "- Document your work in a structured Jupyter Notebook.\n",
    "- Conduct a peer review of a classmate’s project.\n",
    "---"
   ]
  },
  {
   "cell_type": "markdown",
   "metadata": {},
   "source": [
    "## Dependencies\n",
    "---"
   ]
  },
  {
   "cell_type": "code",
   "execution_count": 1,
   "metadata": {},
   "outputs": [],
   "source": [
    "# Standard Library\n",
    "import logging\n",
    "import os\n",
    "\n",
    "# Data Handling\n",
    "import pandas as pd\n",
    "import numpy as np\n",
    "from pandas.plotting import scatter_matrix\n",
    "\n",
    "# Visualization\n",
    "import seaborn as sns\n",
    "import matplotlib.pyplot as plt\n",
    "\n",
    "# Utility\n",
    "import tabulate\n",
    "\n",
    "# Scikit-learn: Model Selection\n",
    "from sklearn.model_selection import StratifiedShuffleSplit, train_test_split\n",
    "\n",
    "# Scikit-learn: Models\n",
    "from sklearn.tree import DecisionTreeClassifier, plot_tree\n",
    "from sklearn.svm import SVC\n",
    "from sklearn.neural_network import MLPClassifier\n",
    "from sklearn.ensemble import RandomForestClassifier\n",
    "from sklearn.linear_model import LogisticRegression\n",
    "\n",
    "# Scikit-learn: Preprocessing & Pipeline\n",
    "from sklearn.preprocessing import LabelEncoder, StandardScaler\n",
    "from sklearn.pipeline import make_pipeline\n",
    "\n",
    "\n",
    "# Scikit-learn: Metrics\n",
    "from sklearn.metrics import (\n",
    "    accuracy_score,\n",
    "    precision_score,\n",
    "    recall_score,\n",
    "    f1_score,\n",
    "    classification_report,\n",
    "    confusion_matrix\n",
    ")"
   ]
  },
  {
   "cell_type": "markdown",
   "metadata": {},
   "source": [
    "## Section 1. Import and Inspect the Data\n",
    "---"
   ]
  },
  {
   "cell_type": "markdown",
   "metadata": {},
   "source": [
    "### - 1.1 Load the dataset and display the first 10 rows.\n",
    "---"
   ]
  },
  {
   "cell_type": "code",
   "execution_count": 2,
   "metadata": {},
   "outputs": [
    {
     "name": "stdout",
     "output_type": "stream",
     "text": [
      "Shape of the dataset: (8124, 23)\n",
      "  class cap-shape cap-surface cap-color bruises odor gill-attachment  \\\n",
      "0     p         x           s         n       t    p               f   \n",
      "1     e         x           s         y       t    a               f   \n",
      "2     e         b           s         w       t    l               f   \n",
      "3     p         x           y         w       t    p               f   \n",
      "4     e         x           s         g       f    n               f   \n",
      "5     e         x           y         y       t    a               f   \n",
      "6     e         b           s         w       t    a               f   \n",
      "7     e         b           y         w       t    l               f   \n",
      "8     p         x           y         w       t    p               f   \n",
      "9     e         b           s         y       t    a               f   \n",
      "\n",
      "  gill-spacing gill-size gill-color  ... stalk-surface-below-ring  \\\n",
      "0            c         n          k  ...                        s   \n",
      "1            c         b          k  ...                        s   \n",
      "2            c         b          n  ...                        s   \n",
      "3            c         n          n  ...                        s   \n",
      "4            w         b          k  ...                        s   \n",
      "5            c         b          n  ...                        s   \n",
      "6            c         b          g  ...                        s   \n",
      "7            c         b          n  ...                        s   \n",
      "8            c         n          p  ...                        s   \n",
      "9            c         b          g  ...                        s   \n",
      "\n",
      "  stalk-color-above-ring stalk-color-below-ring veil-type veil-color  \\\n",
      "0                      w                      w         p          w   \n",
      "1                      w                      w         p          w   \n",
      "2                      w                      w         p          w   \n",
      "3                      w                      w         p          w   \n",
      "4                      w                      w         p          w   \n",
      "5                      w                      w         p          w   \n",
      "6                      w                      w         p          w   \n",
      "7                      w                      w         p          w   \n",
      "8                      w                      w         p          w   \n",
      "9                      w                      w         p          w   \n",
      "\n",
      "  ring-number ring-type spore-print-color population habitat  \n",
      "0           o         p                 k          s       u  \n",
      "1           o         p                 n          n       g  \n",
      "2           o         p                 n          n       m  \n",
      "3           o         p                 k          s       u  \n",
      "4           o         e                 n          a       g  \n",
      "5           o         p                 k          n       g  \n",
      "6           o         p                 k          n       m  \n",
      "7           o         p                 n          s       m  \n",
      "8           o         p                 k          v       g  \n",
      "9           o         p                 k          s       m  \n",
      "\n",
      "[10 rows x 23 columns]\n"
     ]
    }
   ],
   "source": [
    "# Load the Mushroom Classification dataset\n",
    "column_names = [\n",
    "    \"class\", \"cap-shape\", \"cap-surface\", \"cap-color\", \"bruises\", \"odor\",\n",
    "    \"gill-attachment\", \"gill-spacing\", \"gill-size\", \"gill-color\",\n",
    "    \"stalk-shape\", \"stalk-root\", \"stalk-surface-above-ring\", \"stalk-surface-below-ring\",\n",
    "    \"stalk-color-above-ring\", \"stalk-color-below-ring\", \"veil-type\", \"veil-color\",\n",
    "    \"ring-number\", \"ring-type\", \"spore-print-color\", \"population\", \"habitat\"\n",
    "]\n",
    "\n",
    "data_url = \"https://archive.ics.uci.edu/ml/machine-learning-databases/mushroom/agaricus-lepiota.data\"\n",
    "\n",
    "df = pd.read_csv(data_url, header=None, names=column_names)\n",
    "\n",
    "# Display shap of the dataset\n",
    "print(f\"Shape of the dataset: {df.shape}\")\n",
    "\n",
    "# Display first few rows\n",
    "print(df.head(10))\n"
   ]
  },
  {
   "cell_type": "markdown",
   "metadata": {},
   "source": [
    "### - 1.2 Check for missing values and display summary statistics.\n",
    "---"
   ]
  },
  {
   "cell_type": "code",
   "execution_count": 3,
   "metadata": {},
   "outputs": [
    {
     "name": "stdout",
     "output_type": "stream",
     "text": [
      " Missing Values:\n",
      " Series([], dtype: int64)\n",
      "\n",
      " Summary Statistics (non-numeric preview):\n",
      "                         count unique top  freq\n",
      "class                     8124      2   e  4208\n",
      "cap-shape                 8124      6   x  3656\n",
      "cap-surface               8124      4   y  3244\n",
      "cap-color                 8124     10   n  2284\n",
      "bruises                   8124      2   f  4748\n",
      "odor                      8124      9   n  3528\n",
      "gill-attachment           8124      2   f  7914\n",
      "gill-spacing              8124      2   c  6812\n",
      "gill-size                 8124      2   b  5612\n",
      "gill-color                8124     12   b  1728\n",
      "stalk-shape               8124      2   t  4608\n",
      "stalk-root                5644      4   b  3776\n",
      "stalk-surface-above-ring  8124      4   s  5176\n",
      "stalk-surface-below-ring  8124      4   s  4936\n",
      "stalk-color-above-ring    8124      9   w  4464\n",
      "stalk-color-below-ring    8124      9   w  4384\n",
      "veil-type                 8124      1   p  8124\n",
      "veil-color                8124      4   w  7924\n",
      "ring-number               8124      3   o  7488\n",
      "ring-type                 8124      5   p  3968\n",
      "spore-print-color         8124      9   w  2388\n",
      "population                8124      6   v  4040\n",
      "habitat                   8124      7   d  3148\n",
      "\n",
      " Class Distribution:\n",
      "class\n",
      "e    4208\n",
      "p    3916\n",
      "Name: count, dtype: int64\n"
     ]
    }
   ],
   "source": [
    "# Check for missing values\n",
    "missing_values = df.isnull().sum()\n",
    "print(\" Missing Values:\\n\", missing_values[missing_values > 0])\n",
    "# Check for duplicates\n",
    "duplicates = df.duplicated().sum()  \n",
    "#\n",
    "df.replace('?', np.nan, inplace=True)\n",
    "\n",
    "# Basic summary statistics (only works meaningfully after encoding)\n",
    "print(\"\\n Summary Statistics (non-numeric preview):\")\n",
    "print(df.describe(include='all').T)\n",
    "\n",
    "# Check for class balance\n",
    "print(\"\\n Class Distribution:\")\n",
    "print(df['class'].value_counts())\n",
    "\n",
    "# Visualize missing data if any\n",
    "if missing_values.any():\n",
    "    plt.figure(figsize=(10, 6))\n",
    "    sns.heatmap(df.isnull(), cbar=False, cmap=\"YlGnBu\")\n",
    "    plt.title(\"Missing Data Heatmap\")\n",
    "    plt.show()"
   ]
  },
  {
   "cell_type": "markdown",
   "metadata": {},
   "source": [
    "## Section 2. Data Exploration and Preparation\n",
    "---"
   ]
  },
  {
   "cell_type": "markdown",
   "metadata": {},
   "source": [
    "### - 2.1 Explore data patterns and distributions\n",
    "  - Create histograms, boxplots, and count plots for categorical variables (as applicable).\n",
    "  - Identify patterns, outliers, and anomalies in feature distributions.\n",
    "  - Check for class imbalance in the target variable (as applicable).\n",
    "  ---"
   ]
  },
  {
   "cell_type": "code",
   "execution_count": 4,
   "metadata": {},
   "outputs": [
    {
     "name": "stdout",
     "output_type": "stream",
     "text": [
      "\n",
      " Unique values per feature:\n",
      "class                     : 2 unique values\n",
      "cap-shape                 : 6 unique values\n",
      "cap-surface               : 4 unique values\n",
      "cap-color                 : 10 unique values\n",
      "bruises                   : 2 unique values\n",
      "odor                      : 9 unique values\n",
      "gill-attachment           : 2 unique values\n",
      "gill-spacing              : 2 unique values\n",
      "gill-size                 : 2 unique values\n",
      "gill-color                : 12 unique values\n",
      "stalk-shape               : 2 unique values\n",
      "stalk-root                : 4 unique values\n",
      "stalk-surface-above-ring  : 4 unique values\n",
      "stalk-surface-below-ring  : 4 unique values\n",
      "stalk-color-above-ring    : 9 unique values\n",
      "stalk-color-below-ring    : 9 unique values\n",
      "veil-type                 : 1 unique values\n",
      "veil-color                : 4 unique values\n",
      "ring-number               : 3 unique values\n",
      "ring-type                 : 5 unique values\n",
      "spore-print-color         : 9 unique values\n",
      "population                : 6 unique values\n",
      "habitat                   : 7 unique values\n",
      "\n",
      " Checking for rare categories (less than 10 occurrences):\n",
      "cap-shape: {'c': 4}\n",
      "cap-surface: {'g': 4}\n",
      "stalk-color-above-ring: {'y': 8}\n",
      "veil-color: {'y': 8}\n"
     ]
    }
   ],
   "source": [
    "# Create images folder if it doesn't exist\n",
    "os.makedirs(\"images\", exist_ok=True)\n",
    "\n",
    "# Class imbalance check\n",
    "plt.figure(figsize=(6, 4))\n",
    "sns.countplot(x='class', data=df, hue='class', palette='Set2', legend=False)\n",
    "plt.title(\"Class Distribution: Edible vs Poisonous\")\n",
    "plt.xlabel(\"Class (e = Edible, p = Poisonous)\")\n",
    "plt.ylabel(\"Count\")\n",
    "plt.tight_layout()\n",
    "plt.savefig('images/class_distribution.png', dpi=300)\n",
    "plt.close()\n",
    "\n",
    "# Explore distributions of selected categorical features\n",
    "categorical_features = ['cap-shape', 'cap-surface', 'cap-color', 'odor', 'gill-color', 'habitat']\n",
    "\n",
    "# Count plots for each selected feature\n",
    "for feature in categorical_features:\n",
    "    plt.figure(figsize=(8, 4))\n",
    "    sns.countplot(\n",
    "        x=feature,\n",
    "        data=df,\n",
    "        hue=feature,\n",
    "        palette='viridis',\n",
    "        order=df[feature].value_counts().index,\n",
    "        legend=False\n",
    "    )\n",
    "    plt.title(f\"Distribution of {feature}\")\n",
    "    plt.xticks(rotation=45)\n",
    "    plt.tight_layout()\n",
    "    \n",
    "    # Save the plot\n",
    "    plt.savefig(f'images/{feature}_distribution.png', dpi=300)\n",
    "    plt.close()\n",
    "\n",
    "# Check for rare categories or anomalies\n",
    "print(\"\\n Unique values per feature:\")\n",
    "for col in df.columns:\n",
    "    print(f\"{col:25} : {df[col].nunique()} unique values\")\n",
    "\n",
    "print(\"\\n Checking for rare categories (less than 10 occurrences):\")\n",
    "for col in df.columns:\n",
    "    counts = df[col].value_counts()\n",
    "    rare = counts[counts < 10]\n",
    "    if not rare.empty:\n",
    "        print(f\"{col}: {rare.to_dict()}\")\n"
   ]
  },
  {
   "cell_type": "markdown",
   "metadata": {},
   "source": [
    "### - 2.2 Handle missing values and clean data\n",
    "  - Impute or drop missing values (as applicable).\n",
    "  - Remove or transform outliers (as applicable).\n",
    "  - Convert categorical data to numerical format using encoding (as applicable).\n",
    "  ---"
   ]
  },
  {
   "cell_type": "code",
   "execution_count": 5,
   "metadata": {},
   "outputs": [
    {
     "name": "stdout",
     "output_type": "stream",
     "text": [
      " Missing Values Before Cleaning:\n",
      "stalk-root    2480\n",
      "dtype: int64\n",
      "\n",
      " Missing Values After Cleaning:\n",
      "0 missing values remaining\n",
      "\n",
      " Encoded Data Sample:\n",
      "   class  cap-shape  cap-surface  cap-color  bruises  odor  gill-attachment  \\\n",
      "0      1          5            2          4        1     6                1   \n",
      "1      0          5            2          9        1     0                1   \n",
      "2      0          0            2          8        1     3                1   \n",
      "3      1          5            3          8        1     6                1   \n",
      "4      0          5            2          3        0     5                1   \n",
      "\n",
      "   gill-spacing  gill-size  gill-color  ...  stalk-surface-below-ring  \\\n",
      "0             0          1           4  ...                         2   \n",
      "1             0          0           4  ...                         2   \n",
      "2             0          0           5  ...                         2   \n",
      "3             0          1           5  ...                         2   \n",
      "4             1          0           4  ...                         2   \n",
      "\n",
      "   stalk-color-above-ring  stalk-color-below-ring  veil-type  veil-color  \\\n",
      "0                       7                       7          0           2   \n",
      "1                       7                       7          0           2   \n",
      "2                       7                       7          0           2   \n",
      "3                       7                       7          0           2   \n",
      "4                       7                       7          0           2   \n",
      "\n",
      "   ring-number  ring-type  spore-print-color  population  habitat  \n",
      "0            1          4                  2           3        5  \n",
      "1            1          4                  3           2        1  \n",
      "2            1          4                  3           2        3  \n",
      "3            1          4                  2           3        5  \n",
      "4            1          0                  3           0        1  \n",
      "\n",
      "[5 rows x 23 columns]\n"
     ]
    },
    {
     "name": "stderr",
     "output_type": "stream",
     "text": [
      "c:\\Users\\balla\\Projects\\ml-04-midterm-jballard\\.venv\\Lib\\site-packages\\pandas\\plotting\\_matplotlib\\misc.py:100: UserWarning: Attempting to set identical low and high xlims makes transformation singular; automatically expanding.\n",
      "  ax.set_xlim(boundaries_list[j])\n",
      "c:\\Users\\balla\\Projects\\ml-04-midterm-jballard\\.venv\\Lib\\site-packages\\pandas\\plotting\\_matplotlib\\misc.py:101: UserWarning: Attempting to set identical low and high ylims makes transformation singular; automatically expanding.\n",
      "  ax.set_ylim(boundaries_list[i])\n",
      "c:\\Users\\balla\\Projects\\ml-04-midterm-jballard\\.venv\\Lib\\site-packages\\pandas\\plotting\\_matplotlib\\misc.py:91: UserWarning: Attempting to set identical low and high xlims makes transformation singular; automatically expanding.\n",
      "  ax.set_xlim(boundaries_list[i])\n"
     ]
    }
   ],
   "source": [
    "# Re-check missing values before handling\n",
    "print(\" Missing Values Before Cleaning:\")\n",
    "print(df.isnull().sum()[df.isnull().sum() > 0])\n",
    "\n",
    "# Impute with most frequent value\n",
    "most_freq = df['stalk-root'].mode()[0]\n",
    "df ['stalk-root'] = df['stalk-root'].replace(np.nan, most_freq)\n",
    "\n",
    "# After imputation, rename to df_clean\n",
    "df_clean = df.copy()\n",
    "\n",
    "# Confirm cleaning\n",
    "print(\"\\n Missing Values After Cleaning:\")\n",
    "print(df_clean.isnull().sum().sum(), \"missing values remaining\")\n",
    "\n",
    "# Encode categorical features using Label Encoding\n",
    "df_encoded = df_clean.copy()\n",
    "label_encoders = {}\n",
    "\n",
    "for col in df_encoded.columns:\n",
    "    le = LabelEncoder()\n",
    "    df_encoded[col] = le.fit_transform(df_encoded[col])\n",
    "    label_encoders[col] = le  # Save for inverse_transform or decoding later\n",
    "\n",
    "# Confirm encoding\n",
    "print(\"\\n Encoded Data Sample:\")\n",
    "print(df_encoded.head())\n",
    "\n",
    "# Visualize the cleaned and encoded data using scatter matrix\n",
    "scatter_matrix(df_encoded, alpha=0.2, figsize=(12, 12), diagonal='hist')\n",
    "plt.suptitle(\"Scatter Matrix of Encoded Data\")\n",
    "plt.tight_layout()\n",
    "plt.savefig('images/scatter_matrix_cleaned.png', dpi=300)\n",
    "plt.close()"
   ]
  },
  {
   "cell_type": "markdown",
   "metadata": {},
   "source": [
    "### - 2.3 Feature selection and engineering\n",
    "  - Create new features (as applicable).\n",
    "  - Transform or combine existing features to improve model performance (as applicable).\n",
    "  - Scale or normalize data (as applicable).\n",
    "  ---"
   ]
  },
  {
   "cell_type": "code",
   "execution_count": 6,
   "metadata": {},
   "outputs": [
    {
     "data": {
      "image/png": "[encoded data removed]",
      "text/plain": [
       "<Figure size 1000x600 with 1 Axes>"
      ]
     },
     "metadata": {},
     "output_type": "display_data"
    },
    {
     "name": "stdout",
     "output_type": "stream",
     "text": [
      "\n",
      " Scaled Feature Sample:\n",
      "   cap-shape  cap-surface  cap-color   bruises      odor  gill-attachment  \\\n",
      "0   1.029712     0.140128  -0.198250  1.185917  0.881938         0.162896   \n",
      "1   1.029712     0.140128   1.765874  1.185917 -1.970316         0.162896   \n",
      "2  -2.087047     0.140128   1.373049  1.185917 -0.544189         0.162896   \n",
      "3   1.029712     0.953270   1.373049  1.185917  0.881938         0.162896   \n",
      "4   1.029712     0.140128  -0.591075 -0.843230  0.406562         0.162896   \n",
      "\n",
      "   gill-spacing  gill-size  gill-color  stalk-shape  ...  \\\n",
      "0     -0.438864   1.494683   -0.228998    -1.144806  ...   \n",
      "1     -0.438864  -0.669038   -0.228998    -1.144806  ...   \n",
      "2     -0.438864  -0.669038    0.053477    -1.144806  ...   \n",
      "3     -0.438864   1.494683    0.053477    -1.144806  ...   \n",
      "4      2.278612  -0.669038   -0.228998     0.873511  ...   \n",
      "\n",
      "   stalk-surface-below-ring  stalk-color-above-ring  stalk-color-below-ring  \\\n",
      "0                  0.586385                0.622441                0.631991   \n",
      "1                  0.586385                0.622441                0.631991   \n",
      "2                  0.586385                0.622441                0.631991   \n",
      "3                  0.586385                0.622441                0.631991   \n",
      "4                  0.586385                0.622441                0.631991   \n",
      "\n",
      "   veil-type  veil-color  ring-number  ring-type  spore-print-color  \\\n",
      "0        0.0    0.142037    -0.256132   0.948081          -0.670195   \n",
      "1        0.0    0.142037    -0.256132   0.948081          -0.250471   \n",
      "2        0.0    0.142037    -0.256132   0.948081          -0.250471   \n",
      "3        0.0    0.142037    -0.256132   0.948081          -0.670195   \n",
      "4        0.0    0.142037    -0.256132  -1.272216          -0.250471   \n",
      "\n",
      "   population   habitat  \n",
      "0   -0.514389  2.030028  \n",
      "1   -1.313108 -0.295730  \n",
      "2   -1.313108  0.867149  \n",
      "3   -0.514389  2.030028  \n",
      "4   -2.910546 -0.295730  \n",
      "\n",
      "[5 rows x 22 columns]\n"
     ]
    }
   ],
   "source": [
    "# Separate features and target\n",
    "X = df_encoded.drop(\"class\", axis=1)\n",
    "y = df_encoded[\"class\"]\n",
    "\n",
    "# Optional: Create interaction features (if any domain knowledge suggests it)\n",
    "# Example (not meaningful here without context):\n",
    "# X['odor_gill'] = X['odor'] * X['gill-color']  # Not used here, but shown for structure\n",
    "\n",
    "# Explore feature importance using a simple Decision Tree\n",
    "# This is a quick way to see which features are most important\n",
    "# and can help in feature selection\n",
    "dt = DecisionTreeClassifier(random_state=42)\n",
    "dt.fit(X, y)\n",
    "\n",
    "# Get feature importances\n",
    "importances = pd.Series(dt.feature_importances_, index=X.columns)\n",
    "importances = importances.sort_values(ascending=False)\n",
    "\n",
    "# Plot top features\n",
    "plt.figure(figsize=(10, 6))\n",
    "sns.barplot(x=importances.values[:10], y=importances.index[:10])\n",
    "plt.title(\"Top 10 Important Features (Decision Tree)\")\n",
    "plt.xlabel(\"Importance Score\")\n",
    "plt.ylabel(\"Feature\")\n",
    "plt.show()\n",
    "\n",
    "# Scaling – Required only for distance-based models (e.g., SVM, MLP)\n",
    "scaler = StandardScaler()\n",
    "X_scaled = scaler.fit_transform(X)\n",
    "\n",
    "# Wrap into DataFrame (optional)\n",
    "X_scaled_df = pd.DataFrame(X_scaled, columns=X.columns)\n",
    "\n",
    "# Confirm scaled data\n",
    "print(\"\\n Scaled Feature Sample:\")\n",
    "print(X_scaled_df.head())\n",
    "plt.savefig('images/Top_10_features.png', dpi=300)\n",
    "plt.close()\n"
   ]
  },
  {
   "cell_type": "markdown",
   "metadata": {},
   "source": [
    "## Section 3. Feature Selection and Justification\n",
    "---"
   ]
  },
  {
   "cell_type": "markdown",
   "metadata": {},
   "source": [
    "- 3.1 Choose features and target\n",
    "  - Select two or more input features (numerical for regression, numerical and/or categorical for classification)\n",
    "  - Select a target variable (as applicable)\n",
    "    - Regression: Continuous target variable (e.g., price, temperature).\n",
    "    - Classification: Categorical target variable (e.g., gender, species).\n",
    "    - Clustering: No target variable.\n",
    "  - Justify your selection with reasoning.\n",
    "---\n"
   ]
  },
  {
   "cell_type": "code",
   "execution_count": 7,
   "metadata": {},
   "outputs": [],
   "source": [
    "# Define features (X) and target (y)\n",
    "# Target variable: 'class' – edible (e) or poisonous (p)\n",
    "# Features selected based on earlier Decision Tree feature importance\n",
    "\n",
    "selected_features = [\n",
    "    'odor',            # Most influential — strong indicator of toxicity\n",
    "    'gill-color',      # Indicates maturity and species — useful class separation\n",
    "    'spore-print-color', # Important taxonomic trait among mushrooms\n",
    "    'habitat',         # Environmental context — some mushrooms grow in specific regions\n",
    "    'population'       # Can hint at species commonality\n",
    "]\n",
    "\n",
    "# Feature and target definition\n",
    "X_selected = df_encoded[selected_features]\n",
    "y = df_encoded['class']  # 0 = edible, 1 = poisonous (after LabelEncoding)"
   ]
  },
  {
   "cell_type": "markdown",
   "metadata": {},
   "source": [
    "- 3.2 Define X and y\n",
    "  - Assign input features to X\n",
    "  - Assign target variable to y (as applicable)\n",
    "---"
   ]
  },
  {
   "cell_type": "code",
   "execution_count": 8,
   "metadata": {},
   "outputs": [
    {
     "name": "stdout",
     "output_type": "stream",
     "text": [
      " Features shape: (8124, 5)\n",
      " Target shape: (8124,)\n",
      "\n",
      " Feature Sample:\n",
      "   odor  gill-color  spore-print-color  habitat  population\n",
      "0     6           4                  2        5           3\n",
      "1     0           4                  3        1           2\n",
      "2     3           5                  3        3           2\n",
      "3     6           5                  2        5           3\n",
      "4     5           4                  3        1           0\n",
      "\n",
      " Target Sample:\n",
      "0    1\n",
      "1    0\n",
      "2    0\n",
      "3    1\n",
      "4    0\n",
      "Name: class, dtype: int64\n"
     ]
    }
   ],
   "source": [
    "# Input features (selected from 3.1)\n",
    "X = df_encoded[[\n",
    "    'odor',\n",
    "    'gill-color',\n",
    "    'spore-print-color',\n",
    "    'habitat',\n",
    "    'population'\n",
    "]]\n",
    "\n",
    "# Target variable: 'class' (edible vs. poisonous)\n",
    "y = df_encoded['class']\n",
    "\n",
    "# Confirm shapes and sample\n",
    "print(f\" Features shape: {X.shape}\")\n",
    "print(f\" Target shape: {y.shape}\")\n",
    "print(\"\\n Feature Sample:\")\n",
    "print(X.head())\n",
    "\n",
    "print(\"\\n Target Sample:\")\n",
    "print(y.head())\n"
   ]
  },
  {
   "cell_type": "markdown",
   "metadata": {},
   "source": [
    "## Section 4. Train a Model (Classification: Choose 1: Decision Tree, Random Forest, Logistic Regression)\n",
    "---"
   ]
  },
  {
   "cell_type": "markdown",
   "metadata": {},
   "source": [
    "### - 4.1 Split the data into training and test sets using train_test_split (or StratifiedShuffleSplit if class imbalance is an issue).\n",
    "---"
   ]
  },
  {
   "cell_type": "code",
   "execution_count": 9,
   "metadata": {},
   "outputs": [
    {
     "name": "stdout",
     "output_type": "stream",
     "text": [
      " Class distribution in full dataset:\n",
      "class\n",
      "0    0.517971\n",
      "1    0.482029\n",
      "Name: proportion, dtype: float64\n",
      "\n",
      " Class distribution in training set:\n",
      "class\n",
      "0    0.517926\n",
      "1    0.482074\n",
      "Name: proportion, dtype: float64\n",
      "\n",
      " Class distribution in test set:\n",
      "class\n",
      "0    0.518154\n",
      "1    0.481846\n",
      "Name: proportion, dtype: float64\n",
      "\n",
      " Training set: (6499, 5), Test set: (1625, 5)\n"
     ]
    }
   ],
   "source": [
    "# Define Stratified Shuffle Split\n",
    "split = StratifiedShuffleSplit(n_splits=1, test_size=0.2, random_state=42)\n",
    "\n",
    "# Perform the split\n",
    "for train_index, test_index in split.split(X, y):\n",
    "    X_train, X_test = X.iloc[train_index], X.iloc[test_index]\n",
    "    y_train, y_test = y.iloc[train_index], y.iloc[test_index]\n",
    "\n",
    "# Confirm distribution in each split\n",
    "print(\" Class distribution in full dataset:\")\n",
    "print(y.value_counts(normalize=True))\n",
    "\n",
    "print(\"\\n Class distribution in training set:\")\n",
    "print(y_train.value_counts(normalize=True))\n",
    "\n",
    "print(\"\\n Class distribution in test set:\")\n",
    "print(y_test.value_counts(normalize=True))\n",
    "\n",
    "# Confirm shapes\n",
    "print(f\"\\n Training set: {X_train.shape}, Test set: {X_test.shape}\")\n"
   ]
  },
  {
   "cell_type": "markdown",
   "metadata": {},
   "source": [
    "### - 4.2 Train model using Scikit-Learn model.fit() method.\n",
    "\n",
    "#### - 4.2 Decison Tree model\n",
    "---"
   ]
  },
  {
   "cell_type": "code",
   "execution_count": 10,
   "metadata": {},
   "outputs": [
    {
     "name": "stdout",
     "output_type": "stream",
     "text": [
      " Decision Tree model trained successfully.\n"
     ]
    }
   ],
   "source": [
    "# 4.2a Decison Tree model\n",
    "# Initialize the Decision Tree model\n",
    "dt_model = DecisionTreeClassifier(random_state=42)\n",
    "\n",
    "# Train the model using training data\n",
    "dt_model.fit(X_train, y_train)\n",
    "\n",
    "# Confirm training complete\n",
    "print(\" Decision Tree model trained successfully.\")\n"
   ]
  },
  {
   "cell_type": "markdown",
   "metadata": {},
   "source": [
    "### - 4.3 Evalulate performance, for example:\n",
    "  - Regression: R^2, MAE, RMSE (RMSE has been recently updated)\n",
    "  - Classification: Accuracy, Precision, Recall, F1-score, Confusion Matrix\n",
    "  - Clustering: Inertia, Silhouette Score\n",
    "---"
   ]
  },
  {
   "cell_type": "code",
   "execution_count": 11,
   "metadata": {},
   "outputs": [
    {
     "name": "stdout",
     "output_type": "stream",
     "text": [
      " Decision Tree – Performance Metrics:\n",
      "Accuracy Score     : 1.0000\n",
      "Precision Score    : 1.0000\n",
      "Recall Score       : 1.0000\n",
      "F1 Score           : 1.0000\n",
      "\n",
      " Confusion Matrix:\n",
      "[[842   0]\n",
      " [  0 783]]\n",
      "\n",
      " Classification Report:\n",
      "              precision    recall  f1-score   support\n",
      "\n",
      "           0       1.00      1.00      1.00       842\n",
      "           1       1.00      1.00      1.00       783\n",
      "\n",
      "    accuracy                           1.00      1625\n",
      "   macro avg       1.00      1.00      1.00      1625\n",
      "weighted avg       1.00      1.00      1.00      1625\n",
      "\n"
     ]
    }
   ],
   "source": [
    "# Section 4.3 – Evaluate Performance (Decision Tree as Primary)\n",
    "# Predict on test set using Decision Tree\n",
    "y_pred_dt = dt_model.predict(X_test)\n",
    "\n",
    "# Evaluate metrics\n",
    "print(\" Decision Tree – Performance Metrics:\")\n",
    "print(f\"Accuracy Score     : {accuracy_score(y_test, y_pred_dt):.4f}\")\n",
    "print(f\"Precision Score    : {precision_score(y_test, y_pred_dt):.4f}\")\n",
    "print(f\"Recall Score       : {recall_score(y_test, y_pred_dt):.4f}\")\n",
    "print(f\"F1 Score           : {f1_score(y_test, y_pred_dt):.4f}\")\n",
    "\n",
    "# Confusion matrix\n",
    "print(\"\\n Confusion Matrix:\")\n",
    "print(confusion_matrix(y_test, y_pred_dt))\n",
    "\n",
    "# Optional: Classification report\n",
    "print(\"\\n Classification Report:\")\n",
    "print(classification_report(y_test, y_pred_dt))\n"
   ]
  },
  {
   "cell_type": "markdown",
   "metadata": {},
   "source": [
    "## Section 5. Improve the Model or Try Alternatives (Implement a Second Option)\n",
    "---"
   ]
  },
  {
   "cell_type": "markdown",
   "metadata": {},
   "source": [
    "### - 5.1 Train an alternative classifier (e.g., Decision Tree, Random Forest, Logistic Regression) OR adjust hyperparameters on the original model.\n",
    "---\n"
   ]
  },
  {
   "cell_type": "code",
   "execution_count": 12,
   "metadata": {},
   "outputs": [
    {
     "name": "stdout",
     "output_type": "stream",
     "text": [
      " Random Forest model trained successfully.\n"
     ]
    }
   ],
   "source": [
    "# 5.1 Random Forest model\n",
    "# Initialize the Random Forest model\n",
    "rf_model = RandomForestClassifier(n_estimators=100, random_state=42)\n",
    "\n",
    "# Train the model\n",
    "rf_model.fit(X_train, y_train)\n",
    "\n",
    "# Confirm training\n",
    "print(\" Random Forest model trained successfully.\")\n"
   ]
  },
  {
   "cell_type": "code",
   "execution_count": 13,
   "metadata": {},
   "outputs": [
    {
     "name": "stdout",
     "output_type": "stream",
     "text": [
      " Random Forest – Performance Metrics:\n",
      "Accuracy Score     : 1.0000\n",
      "Precision Score    : 1.0000\n",
      "Recall Score       : 1.0000\n",
      "F1 Score           : 1.0000\n",
      "\n",
      " Confusion Matrix (Random Forest):\n",
      "[[842   0]\n",
      " [  0 783]]\n"
     ]
    }
   ],
   "source": [
    "# Predict using Random Forest\n",
    "y_pred_rf = rf_model.predict(X_test)\n",
    "\n",
    "# Evaluate Random Forest\n",
    "print(\" Random Forest – Performance Metrics:\")\n",
    "print(f\"Accuracy Score     : {accuracy_score(y_test, y_pred_rf):.4f}\")\n",
    "print(f\"Precision Score    : {precision_score(y_test, y_pred_rf):.4f}\")\n",
    "print(f\"Recall Score       : {recall_score(y_test, y_pred_rf):.4f}\")\n",
    "print(f\"F1 Score           : {f1_score(y_test, y_pred_rf):.4f}\")\n",
    "\n",
    "# Confusion matrix\n",
    "print(\"\\n Confusion Matrix (Random Forest):\")\n",
    "print(confusion_matrix(y_test, y_pred_rf))\n"
   ]
  },
  {
   "cell_type": "markdown",
   "metadata": {},
   "source": [
    "### - 5.2 Compare the performance of all models across the same performance metrics.\n",
    "---"
   ]
  },
  {
   "cell_type": "code",
   "execution_count": 14,
   "metadata": {},
   "outputs": [
    {
     "name": "stdout",
     "output_type": "stream",
     "text": [
      "\n",
      " Tree and Forest Model Comparison Table:\n",
      "| Model Type    | Case   | Features Used                                            | Accuracy   | Precision   | Recall   | F1-Score   | Notes            |\n",
      "|:--------------|:-------|:---------------------------------------------------------|:-----------|:------------|:---------|:-----------|:-----------------|\n",
      "| Decision Tree | Case A | odor, gill-color, spore-print-color, habitat, population | 100.00%    | 100.00%     | 100.00%  | 100.00%    | Primary model    |\n",
      "| Random Forest | Case A | odor, gill-color, spore-print-color, habitat, population | 100.00%    | 100.00%     | 100.00%  | 100.00%    | Additional model |\n"
     ]
    }
   ],
   "source": [
    "# Collect metrics for both models in a detailed comparison table\n",
    "metrics = {\n",
    "    \"Model Type\": [],\n",
    "    \"Case\": [],\n",
    "    \"Features Used\": [],\n",
    "    \"Accuracy\": [],\n",
    "    \"Precision\": [],\n",
    "    \"Recall\": [],\n",
    "    \"F1-Score\": [],\n",
    "    \"Notes\": []\n",
    "}\n",
    "\n",
    "# Shared info\n",
    "feature_set = \"odor, gill-color, spore-print-color, habitat, population\"\n",
    "\n",
    "# Decision Tree\n",
    "metrics[\"Model Type\"].append(\"Decision Tree\")\n",
    "metrics[\"Case\"].append(\"Case A\")\n",
    "metrics[\"Features Used\"].append(feature_set)\n",
    "metrics[\"Accuracy\"].append(f\"{accuracy_score(y_test, y_pred_dt) * 100:.2f}%\")\n",
    "metrics[\"Precision\"].append(f\"{precision_score(y_test, y_pred_dt) * 100:.2f}%\")\n",
    "metrics[\"Recall\"].append(f\"{recall_score(y_test, y_pred_dt) * 100:.2f}%\")\n",
    "metrics[\"F1-Score\"].append(f\"{f1_score(y_test, y_pred_dt) * 100:.2f}%\")\n",
    "metrics[\"Notes\"].append(\"Primary model\")\n",
    "\n",
    "# Random Forest\n",
    "metrics[\"Model Type\"].append(\"Random Forest\")\n",
    "metrics[\"Case\"].append(\"Case A\")\n",
    "metrics[\"Features Used\"].append(feature_set)\n",
    "metrics[\"Accuracy\"].append(f\"{accuracy_score(y_test, y_pred_rf) * 100:.2f}%\")\n",
    "metrics[\"Precision\"].append(f\"{precision_score(y_test, y_pred_rf) * 100:.2f}%\")\n",
    "metrics[\"Recall\"].append(f\"{recall_score(y_test, y_pred_rf) * 100:.2f}%\")\n",
    "metrics[\"F1-Score\"].append(f\"{f1_score(y_test, y_pred_rf) * 100:.2f}%\")\n",
    "metrics[\"Notes\"].append(\"Additional model\")\n",
    "\n",
    "# Display as DataFrame\n",
    "comparison_df = pd.DataFrame(metrics)\n",
    "\n",
    "# Print clean markdown-style table (optional)\n",
    "print(\"\\n Tree and Forest Model Comparison Table:\")\n",
    "print(comparison_df.to_markdown(index=False))"
   ]
  },
  {
   "cell_type": "markdown",
   "metadata": {},
   "source": [
    "## Section 6. Final Thoughts & Insights\n",
    "---\n"
   ]
  },
  {
   "cell_type": "markdown",
   "metadata": {},
   "source": [
    "### - 6.1 Summarize findings.\n",
    "---\n",
    "(write here)    "
   ]
  },
  {
   "cell_type": "markdown",
   "metadata": {},
   "source": [
    "### - 6.2 Discuss challenges faced.\n",
    "---\n",
    "(write here)"
   ]
  },
  {
   "cell_type": "markdown",
   "metadata": {},
   "source": [
    "### - 6.3 If you had more time, what would you try next?\n",
    "---\n",
    "(write here)"
   ]
  }
 ],
 "metadata": {
  "kernelspec": {
   "display_name": ".venv",
   "language": "python",
   "name": "python3"
  },
  "language_info": {
   "codemirror_mode": {
    "name": "ipython",
    "version": 3
   },
   "file_extension": ".py",
   "mimetype": "text/x-python",
   "name": "python",
   "nbconvert_exporter": "python",
   "pygments_lexer": "ipython3",
   "version": "3.12.4"
  }
 },
 "nbformat": 4,
 "nbformat_minor": 2
}
